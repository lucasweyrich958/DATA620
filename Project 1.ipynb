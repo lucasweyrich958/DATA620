{
 "cells": [
  {
   "cell_type": "markdown",
   "id": "bdcf33a1",
   "metadata": {},
   "source": [
    "# Project 1\n",
    "\n",
    "Authors: Lucas and Ari"
   ]
  },
  {
   "cell_type": "markdown",
   "id": "2a8ac063",
   "metadata": {},
   "source": [
    "## Introduction\n",
    "\n",
    "In this project, we're going to analyze a flight route network and identify which airlines serve which markets. For this, we're going to build a network where airports are the nodes, routes are the edge, and airlines are a node feature, meaning an airline flies off that airport. Airports get an edge if airport $j$ and $i$ share a route.\n",
    "\n",
    "## Load Packages and Data"
   ]
  },
  {
   "cell_type": "code",
   "execution_count": 17,
   "id": "c9feb82c",
   "metadata": {},
   "outputs": [],
   "source": [
    "import pandas as pd\n",
    "import numpy as np \n",
    "import networkx as nx\n",
    "from collections import defaultdict, Counter\n",
    "import matplotlib.pyplot as plt\n",
    "from scipy import stats\n",
    "\n",
    "routes = pd.read_csv('https://raw.githubusercontent.com/lucasweyrich958/DATA620/refs/heads/main/routes.csv')"
   ]
  },
  {
   "cell_type": "markdown",
   "id": "14fa228f",
   "metadata": {},
   "source": [
    "## Build Graph\n",
    "\n",
    "After loading the data set, we're going to build a network graph. Since we have source and destination airport information, we're going to build a directed graph. We're going to build nodes out of all unique airport codes from both columns, and then add nodes if an airline serves two nodes."
   ]
  },
  {
   "cell_type": "code",
   "execution_count": null,
   "id": "c5696151",
   "metadata": {},
   "outputs": [],
   "source": [
    "#Build directed graph\n",
    "G = nx.DiGraph()\n",
    "\n",
    "#Add nodes (unique airports)\n",
    "all_airports = pd.concat([routes['Source airport'], routes['Destination airport']]).unique()\n",
    "G.add_nodes_from(all_airports)\n",
    "\n",
    "#Add edges (flight routes)\n",
    "for index, row in routes.iterrows():\n",
    "    source_id = row['Source airport']\n",
    "    destination_id = row['Destination airport']\n",
    "    G.add_edge(source_id, destination_id)\n",
    "\n",
    "#Using set to avoid duplicates\n",
    "airport_serving_airlines = defaultdict(set)\n",
    "\n",
    "for index, row in routes.iterrows():\n",
    "    source_id = row['Source airport']\n",
    "    destination_id = row['Destination airport']\n",
    "    airline = row['Airline']\n",
    "    airport_serving_airlines[source_id].add(airline) #Add the airline to the set of airlines serving the source airport\n",
    "    airport_serving_airlines[destination_id].add(airline) #Add the airline to the set of airlines serving the destination airport\n",
    "\n",
    "#Assign the set of airlines as a node attribute\n",
    "for airport_id, airlines_set in airport_serving_airlines.items():\n",
    "    G.nodes[airport_id]['serving_airlines'] = list(airlines_set)\n"
   ]
  },
  {
   "cell_type": "markdown",
   "id": "ed957fb2",
   "metadata": {},
   "source": [
    "## Network Measures\n",
    "\n",
    "We're going to calculate degree centrality and eigenvector centrality. Because we have a directed graph we must calculate the sum of the inbound and outbound measures. \n",
    "\n",
    "Then, we can assess these measures for select airports if we choose so. In this case, we;re selecting a small-sized, medium-sized and two large sized airports. Omaha, St. Louis, Atlanta, and New York JFK respectively."
   ]
  },
  {
   "cell_type": "code",
   "execution_count": 14,
   "id": "12319060",
   "metadata": {},
   "outputs": [
    {
     "name": "stdout",
     "output_type": "stream",
     "text": [
      "Airport: OMA\n",
      "  Serving Airlines: ['UA', 'KL', 'WN', 'AF', 'AS', 'AZ', 'US', 'AA', 'DL', 'F9', 'FL']\n",
      "  Total Degree Centrality: 38.0000\n",
      "  Eigenvector Centrality: 0.0147\n",
      "------------------------------\n",
      "Airport: STL\n",
      "  Serving Airlines: ['AM', '9K', 'UA', 'KL', 'WN', 'VS', 'AF', 'AS', 'AZ', 'US', 'AA', 'DL', 'F9', '3E', 'AC', 'FL']\n",
      "  Total Degree Centrality: 121.0000\n",
      "  Eigenvector Centrality: 0.0313\n",
      "------------------------------\n",
      "Airport: ATL\n",
      "  Serving Airlines: ['NH', 'AY', 'QF', 'UA', 'SU', '3M', 'AZ', 'TK', 'CA', 'DL', 'CX', 'F9', 'FL', 'MH', 'WN', 'JL', 'VS', 'NK', 'OZ', 'WS', 'EY', 'AC', 'KE', 'BA', 'QR', 'AM', 'EI', '9E', 'IB', 'VA', 'CI', 'LH', 'KL', 'AF', 'AS', 'NZ', 'US', 'AA']\n",
      "  Total Degree Centrality: 433.0000\n",
      "  Eigenvector Centrality: 0.0813\n",
      "------------------------------\n",
      "Airport: JFK\n",
      "  Serving Airlines: ['NH', 'OJ', 'AY', 'AT', 'QF', 'UA', 'SU', 'AZ', 'HA', 'SY', 'TK', 'BW', 'CA', 'DL', 'CX', 'MU', 'LA', '4M', 'LY', 'SV', 'B6', 'XL', 'MH', 'CM', 'JL', 'VS', 'PK', 'VX', 'OZ', 'PS', 'G3', 'WS', 'EY', 'MS', 'AV', 'AI', 'AB', 'AC', 'DY', 'BA', 'KE', 'UN', 'QR', 'AM', 'W3', 'SA', 'BR', 'KU', 'LX', 'EI', 'FI', 'UX', '9E', 'IB', 'JJ', 'EK', 'LO', 'RJ', 'KX', 'CI', '4O', 'HY', 'KL', 'LH', 'SE', 'AF', 'AS', 'OS', 'AR', 'AA', 'SN', 'US', 'SQ', 'ET']\n",
      "  Total Degree Centrality: 322.0000\n",
      "  Eigenvector Centrality: 0.1062\n",
      "------------------------------\n"
     ]
    }
   ],
   "source": [
    "#Degree centrality\n",
    "total_degree_centrality = {node: G.in_degree(node) + G.out_degree(node) for node in G.nodes()}\n",
    "\n",
    "#Eigenvector Centrality\n",
    "eigenvector_centrality = nx.eigenvector_centrality(G)\n",
    "\n",
    "#Store centrality measures as node attributes\n",
    "for node in G.nodes():\n",
    "    G.nodes[node]['total_degree_centrality'] = total_degree_centrality.get(node, 0)\n",
    "    G.nodes[node]['eigenvector_centrality'] = eigenvector_centrality.get(node, 0)\n",
    "\n",
    "#Print measures for select airports\n",
    "selected_airports = ['OMA', 'STL', 'ATL', 'JFK']\n",
    "\n",
    "for airport_code in selected_airports:\n",
    "    if airport_code in G:\n",
    "        node_attributes = G.nodes[airport_code]\n",
    "        print(f\"Airport: {airport_code}\")\n",
    "        print(f\"  Serving Airlines: {node_attributes.get('serving_airlines', 'N/A')}\")\n",
    "        print(f\"  Total Degree Centrality: {node_attributes['total_degree_centrality']:.4f}\")\n",
    "        print(f\"  Eigenvector Centrality: {node_attributes['eigenvector_centrality']:.4f}\")\n",
    "        print(\"-\" * 30)"
   ]
  },
  {
   "cell_type": "markdown",
   "id": "1635b37a",
   "metadata": {},
   "source": [
    "As we can see, the total degree centrality is lowest for the lowest airport, Omaha, followed by St. Louis as the medium sized airport. However, even though JFK has more airlines serving, Atlanta has a higher degree centrality. That is because ATL is the main hub for Delta, one of the biggest airlines in the world. JFK is not a hub per se, hence, ATL is connected to more nodes than JFK is.\n",
    "\n",
    "This begs the question of assessing airlines more closely as well. For the current example, we're going to compare the three major US airlines. Delta, American Airlines, and United. We're computing the average degree centrality of their airports, and then use a one-way ANOVA to compare the three averages."
   ]
  },
  {
   "cell_type": "code",
   "execution_count": 19,
   "id": "a0910fd3",
   "metadata": {},
   "outputs": [
    {
     "name": "stdout",
     "output_type": "stream",
     "text": [
      "Total Degree Centrality for DL, AA, UA\n",
      "Airline DL: Average Total Degree Centrality of Served Airports = 79.5706 (N=354)\n",
      "Airline AA: Average Total Degree Centrality of Served Airports = 79.6567 (N=434)\n",
      "Airline UA: Average Total Degree Centrality of Served Airports = 70.5972 (N=432)\n",
      "\n",
      "One-Way ANOVA for: DL, AA, UA\n",
      "F-statistic: 1.1673\n",
      "P-value: 0.3116\n"
     ]
    }
   ],
   "source": [
    "#Compare Degree Centrality for DL, AA, and UA\n",
    "selected_airlines = ['DL', 'AA', 'UA']\n",
    "airline_groups_degree_centrality = defaultdict(list)\n",
    "\n",
    "for node, attributes in G.nodes(data=True):\n",
    "    if 'serving_airlines' in attributes:\n",
    "        for airline in attributes['serving_airlines']:\n",
    "            if airline in selected_airlines:\n",
    "                airline_groups_degree_centrality[airline].append(attributes['total_degree_centrality'])\n",
    "\n",
    "print(f\"Total Degree Centrality for {', '.join(selected_airlines)}\")\n",
    "\n",
    "for airline in selected_airlines:\n",
    "    avg_degree = np.mean(airline_groups_degree_centrality[airline])\n",
    "    print(f\"Airline {airline}: Average Total Degree Centrality of Served Airports = {avg_degree:.4f} (N={len(airline_groups_degree_centrality[airline])})\")\n",
    "\n",
    "#Compute ANOVA\n",
    "anova_data = []\n",
    "group_labels = []\n",
    "\n",
    "for airline in selected_airlines:\n",
    "    anova_data.append(airline_groups_degree_centrality[airline])\n",
    "    group_labels.append(airline)\n",
    "\n",
    "f_statistic, p_value = stats.f_oneway(*anova_data)\n",
    "print(f\"\\nOne-Way ANOVA for: {', '.join(selected_airlines)}\")\n",
    "print(f\"F-statistic: {f_statistic:.4f}\")\n",
    "print(f\"P-value: {p_value:.4f}\")"
   ]
  },
  {
   "cell_type": "markdown",
   "id": "f35fa14c",
   "metadata": {},
   "source": [
    "The degree centrality for the three airlines appears to be quite similar, as the ANOVA confirms with a $p$ value of 0.31, it is not significantly different. Therefore, it appears that the three major airlines have about similarly connected number of nodes, with United having a bit less.\n",
    "\n",
    "This leads to the conclusion that it should not matter, on average, which airlines one takes to get to a destination within the US."
   ]
  }
 ],
 "metadata": {
  "kernelspec": {
   "display_name": "DATA624",
   "language": "python",
   "name": "python3"
  },
  "language_info": {
   "codemirror_mode": {
    "name": "ipython",
    "version": 3
   },
   "file_extension": ".py",
   "mimetype": "text/x-python",
   "name": "python",
   "nbconvert_exporter": "python",
   "pygments_lexer": "ipython3",
   "version": "3.13.3"
  }
 },
 "nbformat": 4,
 "nbformat_minor": 5
}
