{
 "cells": [
  {
   "cell_type": "markdown",
   "id": "e5c787ff",
   "metadata": {},
   "source": [
    "# Project 3\n",
    "\n",
    "Authors: Ari and Lucas\n",
    "\n",
    "In the following excercise, we're going to analyze the Names corpus and build a gender classifier"
   ]
  },
  {
   "cell_type": "code",
   "execution_count": 11,
   "id": "1ad6f9cc",
   "metadata": {},
   "outputs": [],
   "source": [
    "import nltk\n",
    "from nltk.corpus import names\n",
    "import random\n",
    "from collections import defaultdict\n",
    "import soundex\n",
    "\n",
    "soundex_instance = soundex.Soundex()\n",
    "#Load and shuffle the names\n",
    "labeled_names = ([(name, 'male') for name in names.words('male.txt')] +\n",
    "                 [(name, 'female') for name in names.words('female.txt')])\n",
    "random.shuffle(labeled_names)\n",
    "\n",
    "#Split the data\n",
    "test_names = labeled_names[:500]\n",
    "dev_test_names = labeled_names[500:1000]\n",
    "train_names = labeled_names[1000:]"
   ]
  },
  {
   "cell_type": "code",
   "execution_count": 12,
   "id": "81442d3e",
   "metadata": {},
   "outputs": [
    {
     "name": "stdout",
     "output_type": "stream",
     "text": [
      "Naive Bayes accuracy with soundex package on dev-test set: 0.8320\n",
      "Decision Tree accuracy with soundex package on dev-test set: 0.7300\n"
     ]
    }
   ],
   "source": [
    "def gender_features_soundex_package(name):\n",
    "    name_lower = name.lower()\n",
    "    features = {\n",
    "        'first_letter': name_lower[0],\n",
    "        'last_letter': name_lower[-1],\n",
    "        'length': len(name),\n",
    "        'vowel_count': sum(1 for char in name_lower if char in 'aeiou'),\n",
    "        'consonant_count': sum(1 for char in name_lower if char not in 'aeiou'),\n",
    "        'suffix1': name_lower[-1:],\n",
    "        'suffix2': name_lower[-2:],\n",
    "        'suffix3': name_lower[-3:],\n",
    "        'soundex': soundex_instance.soundex(name)\n",
    "    }\n",
    "    #Add character n-grams\n",
    "    for i in range(len(name_lower) - 1):\n",
    "        features[f'bigram_{name_lower[i:i+2]}'] = True\n",
    "    for i in range(len(name_lower) - 2):\n",
    "        features[f'trigram_{name_lower[i:i+3]}'] = True\n",
    "        \n",
    "    return features\n",
    "\n",
    "#Prepare the feature sets with the new feature extractor\n",
    "train_set_pkg = [(gender_features_soundex_package(name), gender) for (name, gender) in train_names]\n",
    "dev_test_set_pkg = [(gender_features_soundex_package(name), gender) for (name, gender) in dev_test_names]\n",
    "test_set_pkg = [(gender_features_soundex_package(name), gender) for (name, gender) in test_names]\n",
    "\n",
    "#Train and evaluate the Naive Bayes classifier\n",
    "classifier_nb_pkg = nltk.NaiveBayesClassifier.train(train_set_pkg)\n",
    "accuracy_nb_pkg = nltk.classify.accuracy(classifier_nb_pkg, dev_test_set_pkg)\n",
    "print(f\"Naive Bayes accuracy with soundex package on dev-test set: {accuracy_nb_pkg:.4f}\")\n",
    "\n",
    "#Train and evaluate the Decision Tree classifier\n",
    "classifier_dt_pkg = nltk.DecisionTreeClassifier.train(train_set_pkg)\n",
    "accuracy_dt_pkg = nltk.classify.accuracy(classifier_dt_pkg, dev_test_set_pkg)\n",
    "print(f\"Decision Tree accuracy with soundex package on dev-test set: {accuracy_dt_pkg:.4f}\")"
   ]
  },
  {
   "cell_type": "code",
   "execution_count": 13,
   "id": "d3f778aa",
   "metadata": {},
   "outputs": [
    {
     "name": "stdout",
     "output_type": "stream",
     "text": [
      "\n",
      "Final accuracy of the best classifier on the test set: 0.8380\n",
      "Accuracy of the same classifier on the dev-test set: 0.8320\n"
     ]
    }
   ],
   "source": [
    "#Final evaluation on the test set\n",
    "final_accuracy_test_pkg = nltk.classify.accuracy(classifier_nb_pkg, test_set_pkg)\n",
    "print(f\"\\nFinal accuracy of the best classifier on the test set: {final_accuracy_test_pkg:.4f}\")\n",
    "print(f\"Accuracy of the same classifier on the dev-test set: {accuracy_nb_pkg:.4f}\")"
   ]
  }
 ],
 "metadata": {
  "kernelspec": {
   "display_name": "data620",
   "language": "python",
   "name": "python3"
  },
  "language_info": {
   "codemirror_mode": {
    "name": "ipython",
    "version": 3
   },
   "file_extension": ".py",
   "mimetype": "text/x-python",
   "name": "python",
   "nbconvert_exporter": "python",
   "pygments_lexer": "ipython3",
   "version": "3.13.2"
  }
 },
 "nbformat": 4,
 "nbformat_minor": 5
}
