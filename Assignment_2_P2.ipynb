{
 "cells": [
  {
   "cell_type": "markdown",
   "id": "2b98c046",
   "metadata": {},
   "source": [
    "# Assignment 2 Part 2"
   ]
  },
  {
   "cell_type": "markdown",
   "id": "4b8ed038",
   "metadata": {},
   "source": [
    "Authors: Lucas and Ari\n",
    "### Centrality Metrics for Categorical Nodes\n",
    "\n",
    "For this plan, we are going to use the Flightradar API. We are going to create a search engine that will, regardless of flight price, will find the best airline to fly a route with. \n",
    "The Flightradar API provides an immense repository of real-time flight information, but also information about routes, airlines and aircrafts. Using the latter, we can create a network where the nodes are airports, with node features being the airline. For example, for the flight route from ATL to LGA, there are two airlines possible: Delta and United. This will allow us to build a search engine that will find the best possible route. This will become more interesting when we look at routes with one or even two stops, such as Kansas City to Tampa Bay. Here, multiple different routes with multiple different airlines would be possible.\n",
    "\n",
    "The main constraint here is that the Flightradar API is quite expensive; hence, to do this as a project would be unfeasible. Nevertheless, suppose we had access, we would use requests package in Python to make API calls, and then call to get the flight route history for the past 60 days, for example. Once we had the data in python and created a graph using NetworkX, we could compute things like path-length for specific nodes, as well as centrality measures.\n",
    "\n",
    "Degree centrality comes into question here, as we could observe the degree centrality on average, as well as for specific nodes. We could rank the nodes with this measure to find the node with the most connections. These airports will be ones where likely most flights will go through, such as ATL, DFW, or DEN. We could take a step further and compare degree centrality for each airline to find out which airline is more connected with which nodes. This will very likely bring to light the airlines true network and also point to which markets certain airlines serve.\n",
    "\n",
    "Eigenvector centrality also can be useful here. It will allow us to look further than just how many connections an airport has but, how important those connections are by comparing neighbors. Airports like JFK, LAX, or ORD might be examples for high eigenvector centrality as they connect to other major hubs globally. This can also reveal airlines tied to these strong networks and how wide these airlines' services are.\n",
    "\n",
    "Lastly, betweenness centrality comes to mind as well. This can highlight airports that often act as bridges or connecting hubs between different airports. This can be done with betweenness because it measures how frequency that nodes appears on the shortest paths between other nodes. By ranking airports by betweenness, we can find the most critical layover hubs in the network."
   ]
  }
 ],
 "metadata": {
  "language_info": {
   "name": "python"
  }
 },
 "nbformat": 4,
 "nbformat_minor": 5
}
